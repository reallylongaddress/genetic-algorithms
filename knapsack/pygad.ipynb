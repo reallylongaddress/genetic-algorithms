{
 "cells": [
  {
   "cell_type": "code",
   "execution_count": 243,
   "metadata": {},
   "outputs": [
    {
     "name": "stdout",
     "output_type": "stream",
     "text": [
      "3.2.0\n"
     ]
    }
   ],
   "source": [
    "import pygad\n",
    "import pygad.gann\n",
    "import numpy as np\n",
    "print(pygad.__version__)\n"
   ]
  },
  {
   "cell_type": "code",
   "execution_count": 246,
   "metadata": {},
   "outputs": [],
   "source": [
    "#test set 1\n",
    "in_1 = ['Laptop', 'Headphones', 'Coffee Mug', 'Notepad', 'Water Bottle']#item names\n",
    "iv_1 = [500, 150, 60, 40, 30]#item values\n",
    "im_1 = [2200, 160, 350, 333, 192]#items mass\n",
    "ml_1 = 740#max mass\n",
    "\n",
    "#test set 2\n",
    "in_2 = ['Mints', 'Socks', 'Tissues', 'Phone', 'Baseball Cap']#item names\n",
    "iv_2 = [5, 10, 15, 500, 100]#item values\n",
    "im_2 = [25, 38, 80, 200, 70]#items mass\n",
    "ml_2 = 3000#max mass\n",
    "\n",
    "#combine test sets\n",
    "items_name = in_1 + in_2\n",
    "items_value = iv_1 + iv_2\n",
    "items_mass = im_1 + im_2\n",
    "mass_limit = ml_2\n",
    "\n",
    "num_generations=1000\n",
    "num_parents_mating = 2\n",
    "mutation_percent_genes = 25\n",
    "parent_selection_type = \"sss\"\n",
    "crossover_type = \"single_point\"\n",
    "mutation_type = \"random\"\n",
    "keep_parents = 1\n",
    "\n",
    "#return values for the items in this knapsack (where item index == 1/True)\n",
    "def get_knapsack_items(solution, item_list):\n",
    "    return [i for i in [tf and item for tf, item in zip(list(map(bool,solution)), item_list)] if i != False]\n",
    "\n",
    "def fitness_func(ga_instance, solution, sol_idx):\n",
    "    global mass_limit, items_mass, items_value\n",
    "\n",
    "    solution_mass = sum(get_knapsack_items(solution, items_mass))\n",
    "    #is the sum(item mass) in this knapsack < mass_limit\n",
    "    if solution_mass <= mass_limit:\n",
    "        #return sum(item mass) in this knapsack\n",
    "        return sum(get_knapsack_items(solution, items_value))\n",
    "    #sum(item mass) in this knapsack exceeds mass_limit, return 0\n",
    "    return 0\n",
    "\n",
    "ga_instance = pygad.GA(num_generations=num_generations,\n",
    "                       num_parents_mating=num_parents_mating,\n",
    "                         fitness_func=fitness_func,\n",
    "                         sol_per_pop=2,\n",
    "                         num_genes=len(items_value),\n",
    "                         mutation_percent_genes=mutation_percent_genes,\n",
    "                         parent_selection_type=parent_selection_type,\n",
    "                         crossover_type=crossover_type,\n",
    "                         mutation_type=mutation_type,\n",
    "                         gene_type=int,\n",
    "                         gene_space=[0,1],\n",
    "                         save_best_solutions=True\n",
    "                         )\n",
    "\n",
    "ga_instance.run()\n"
   ]
  },
  {
   "cell_type": "code",
   "execution_count": 247,
   "metadata": {},
   "outputs": [
    {
     "name": "stdout",
     "output_type": "stream",
     "text": [
      "best_items_names: ['Laptop', 'Headphones', 'Water Bottle', 'Mints', 'Socks', 'Tissues', 'Phone', 'Baseball Cap']\n",
      "best_items_mass: 2965\n",
      "best_items_value: 1310\n",
      "\n"
     ]
    }
   ],
   "source": [
    "#get the best solution\n",
    "best_solution = ga_instance.best_solution(pop_fitness=ga_instance.last_generation_fitness)\n",
    "\n",
    "#get the names/mass for items in this solution set\n",
    "best_items_names = get_knapsack_items(best_solution[0], items_name)\n",
    "best_items_mass = get_knapsack_items(best_solution[0], items_mass)\n",
    "\n",
    "print(f'best_items_names: {best_items_names}')\n",
    "print(f'best_items_mass: {sum(best_items_mass)}')\n",
    "print(f'best_items_value: {best_solution[1]}\\n')\n"
   ]
  },
  {
   "cell_type": "code",
   "execution_count": null,
   "metadata": {},
   "outputs": [],
   "source": []
  }
 ],
 "metadata": {
  "kernelspec": {
   "display_name": "conda_tf_kaggle",
   "language": "python",
   "name": "conda_tf_kaggle"
  },
  "language_info": {
   "codemirror_mode": {
    "name": "ipython",
    "version": 3
   },
   "file_extension": ".py",
   "mimetype": "text/x-python",
   "name": "python",
   "nbconvert_exporter": "python",
   "pygments_lexer": "ipython3",
   "version": "3.10.8"
  }
 },
 "nbformat": 4,
 "nbformat_minor": 2
}
